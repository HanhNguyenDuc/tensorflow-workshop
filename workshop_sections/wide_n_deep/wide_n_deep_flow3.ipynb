{
 "cells": [
  {
   "cell_type": "markdown",
   "metadata": {},
   "source": [
    "# Wide and Deep on TensorFlow (notebook style)"
   ]
  },
  {
   "cell_type": "markdown",
   "metadata": {},
   "source": [
    "Copyright 2016 Google Inc. All Rights Reserved. Licensed under the Apache License, Version 2.0 (the \"License\"); you may not use this file except in compliance with the License. You may obtain a copy of the License at\n",
    " http://www.apache.org/licenses/LICENSE-2.0\n",
    "\n",
    "Unless required by applicable law or agreed to in writing, software distributed under the License is distributed on an \"AS IS\" BASIS, WITHOUT WARRANTIES OR CONDITIONS OF ANY KIND, either express or implied. See the License for the specific language governing permissions and limitations under the License."
   ]
  },
  {
   "cell_type": "markdown",
   "metadata": {},
   "source": [
    "# Introduction\n",
    "\n",
    "This notebook uses the `tf.Estimator` API in TensorFlow to answer a yes/no question. This is called a binary classification problem: Given census data about a person such as age, gender, education and occupation (the features), we will try to predict whether or not the person earns more than 50,000 dollars a year (the target label). \n",
    "\n",
    "Given an individual's information our model will output a number between 0 and 1, which can be interpreted as the model's certainty that the individual has an annual income of over 50,000 dollars, (1=True, 0=False)\n"
   ]
  },
  {
   "cell_type": "markdown",
   "metadata": {},
   "source": [
    "# Imports and constants\n",
    "First we'll import our libraries and set up some strings for column names. We also print out the version of TensorFlow we are running."
   ]
  },
  {
   "cell_type": "code",
   "execution_count": null,
   "metadata": {},
   "outputs": [],
   "source": [
    "from __future__ import absolute_import\n",
    "from __future__ import division\n",
    "from __future__ import print_function\n",
    "\n",
    "import time\n",
    "\n",
    "import numpy as np\n",
    "import tensorflow as tf\n",
    "\n",
    "tf.logging.set_verbosity(tf.logging.INFO) \n",
    "# Set to INFO for tracking training, default is WARN \n",
    "\n",
    "print(\"Using TensorFlow version %s\" % (tf.__version__)) \n",
    "# This notebook is intended for tested for TF 1.3\n",
    "\n",
    "CATEGORICAL_COLUMNS = [\"workclass\", \"education\", \n",
    "                       \"marital_status\", \"occupation\", \n",
    "                       \"relationship\", \"race\", \n",
    "                       \"gender\", \"native_country\"]\n",
    "\n",
    "# Columns of the input csv file\n",
    "COLUMNS = [\"age\", \"workclass\", \"fnlwgt\", \"education\", \n",
    "           \"education_num\", \"marital_status\",\n",
    "           \"occupation\", \"relationship\", \"race\", \n",
    "           \"gender\", \"capital_gain\", \"capital_loss\",\n",
    "           \"hours_per_week\", \"native_country\", \"income_bracket\"]\n",
    "\n",
    "# Feature columns for input into the model\n",
    "FEATURE_COLUMNS = [\"age\", \"workclass\", \"education\", \n",
    "                   \"education_num\", \"marital_status\",\n",
    "                   \"occupation\", \"relationship\", \"race\", \n",
    "                   \"gender\", \"capital_gain\", \"capital_loss\",\n",
    "                   \"hours_per_week\", \"native_country\"]"
   ]
  },
  {
   "cell_type": "markdown",
   "metadata": {},
   "source": [
    "# Pandas data exploration\n",
    "We load the data into pandas because it is small enough to manage in memory, and look at some properties."
   ]
  },
  {
   "cell_type": "code",
   "execution_count": null,
   "metadata": {
    "collapsed": true
   },
   "outputs": [],
   "source": [
    "import pandas as pd\n",
    "\n",
    "df = pd.read_csv(\"adult.test.csv\", header=None, names=COLUMNS)"
   ]
  },
  {
   "cell_type": "code",
   "execution_count": null,
   "metadata": {
    "scrolled": true
   },
   "outputs": [],
   "source": [
    "df.head()"
   ]
  },
  {
   "cell_type": "code",
   "execution_count": null,
   "metadata": {},
   "outputs": [],
   "source": [
    "df.describe(include=[np.number])"
   ]
  },
  {
   "cell_type": "code",
   "execution_count": null,
   "metadata": {},
   "outputs": [],
   "source": [
    "df.describe(include=[np.object])"
   ]
  },
  {
   "cell_type": "code",
   "execution_count": null,
   "metadata": {},
   "outputs": [],
   "source": [
    "df.corr()"
   ]
  },
  {
   "cell_type": "markdown",
   "metadata": {},
   "source": [
    "# Input file parsing\n",
    "\n",
    "Here we extract the file into a pandas dataframe and use a built-in utility function to generate an input function for us. TensorFlow also has a similar input function for NumPy arrays."
   ]
  },
  {
   "cell_type": "markdown",
   "metadata": {},
   "source": [
    "## More about input functions\n",
    "\n",
    "The input function is how we will feed the input data into the model during training and evaluation. \n",
    "The structure that must be returned is a pair, where the first element is a dict of the column names (features) mapped to a tensor of values, and the 2nd element is a tensor of values representing the answers (labels). Recall that a tensor is just a general term for an n-dimensional array.\n",
    "\n",
    "This could be represented as: `map(column_name => [Tensor of values]) , [Tensor of labels])`\n",
    "\n",
    "More concretely, for this particular dataset, something like this:\n",
    "\n",
    "    { \n",
    "      'age':            [ 39, 50, 38, 53, 28, … ], \n",
    "      'marital_status': [ 'Married-civ-spouse', 'Never-married', 'Widowed', 'Widowed' … ],\n",
    "       ...\n",
    "      'gender':           ['Male', 'Female', 'Male', 'Male', 'Female',, … ], \n",
    "    } , \n",
    "    [ 1, 1, 0, 1, 1, 1, 0, 0, 0, 0, 1, 1]\n",
    "    \n",
    "Additionally, we define which columns of the input data we will treat as categorical vs continuous, using the global `CATEGORICAL_COLUMNS`.\n",
    "\n",
    "You can try different values for `BATCH_SIZE` to see how they impact your results"
   ]
  },
  {
   "cell_type": "code",
   "execution_count": null,
   "metadata": {},
   "outputs": [],
   "source": [
    "BATCH_SIZE = 40\n",
    "\n",
    "def generate_input_fn(filename, num_epochs=None, shuffle=True, batch_size=BATCH_SIZE):\n",
    "    df = pd.read_csv(filename, header=None, names=COLUMNS)\n",
    "    labels = df[\"income_bracket\"].apply(lambda x: \">50K\" in x).astype(int)\n",
    "    del df[\"fnlwgt\"] # Unused column\n",
    "    del df[\"income_bracket\"] # Labels column, already saved to labels variable\n",
    "    \n",
    "    return tf.estimator.inputs.pandas_input_fn(\n",
    "        x=df,\n",
    "        y=labels,\n",
    "        batch_size=batch_size,\n",
    "        num_epochs=num_epochs,\n",
    "        shuffle=shuffle)\n",
    "\n",
    "print('input function configured')"
   ]
  },
  {
   "cell_type": "markdown",
   "metadata": {},
   "source": [
    "# Create Feature Columns\n",
    "This section configures the model with the information about the model. There are many parameters here to experiment with to see how they affect the accuracy.\n",
    "\n",
    "This is the bulk of the time and energy that is often spent on making a machine learning model work, called *feature selection* or *feature engineering*. We choose the features (columns) we will use for training, and apply any additional transformations to them as needed. "
   ]
  },
  {
   "cell_type": "markdown",
   "metadata": {},
   "source": [
    "### Sparse Columns\n",
    "First we build the sparse columns.\n",
    "\n",
    "Use `sparse_column_with_keys()` for columns that we know all possible values for.\n",
    "\n",
    "Use `sparse_column_with_hash_bucket()` for columns that we want the the library to automatically map values for us."
   ]
  },
  {
   "cell_type": "code",
   "execution_count": null,
   "metadata": {},
   "outputs": [],
   "source": [
    "# The layers module contains many utilities for creating feature columns.\n",
    "\n",
    "# Categorical base columns.\n",
    "gender = tf.feature_column.categorical_column_with_vocabulary_list(key=\"gender\", \n",
    "                                                                   vocabulary_list=[\"female\", \"male\"])\n",
    "race = tf.feature_column.categorical_column_with_vocabulary_list(key=\"race\",\n",
    "                                                                 vocabulary_list=[\"Amer-Indian-Eskimo\",\n",
    "                                                                       \"Asian-Pac-Islander\",\n",
    "                                                                       \"Black\", \"Other\",\n",
    "                                                                       \"White\"])\n",
    "\n",
    "education = tf.feature_column.categorical_column_with_hash_bucket(\n",
    "  \"education\", hash_bucket_size=1000)\n",
    "marital_status = tf.feature_column.categorical_column_with_hash_bucket(\n",
    "  \"marital_status\", hash_bucket_size=100)\n",
    "relationship = tf.feature_column.categorical_column_with_hash_bucket(\n",
    "  \"relationship\", hash_bucket_size=100)\n",
    "workclass = tf.feature_column.categorical_column_with_hash_bucket(\n",
    "  \"workclass\", hash_bucket_size=100)\n",
    "occupation = tf.feature_column.categorical_column_with_hash_bucket(\n",
    "  \"occupation\", hash_bucket_size=1000)\n",
    "native_country = tf.feature_column.categorical_column_with_hash_bucket(\n",
    "  \"native_country\", hash_bucket_size=1000)\n",
    "\n",
    "print('Categorical columns configured')"
   ]
  },
  {
   "cell_type": "markdown",
   "metadata": {},
   "source": [
    "### Continuous columns\n",
    "Second, configure the real-valued columns using `real_valued_column()`. "
   ]
  },
  {
   "cell_type": "code",
   "execution_count": null,
   "metadata": {},
   "outputs": [],
   "source": [
    "# Continuous base columns.\n",
    "age = tf.feature_column.numeric_column(\"age\")\n",
    "education_num = tf.feature_column.numeric_column(\"education_num\")\n",
    "capital_gain = tf.feature_column.numeric_column(\"capital_gain\")\n",
    "capital_loss  = tf.feature_column.numeric_column(\"capital_loss\")\n",
    "hours_per_week = tf.feature_column.numeric_column(\"hours_per_week\")\n",
    "\n",
    "print('Continuous columns configured')"
   ]
  },
  {
   "cell_type": "markdown",
   "metadata": {},
   "source": [
    "### Transformations\n",
    "Now for the interesting stuff. We will employ a couple of techniques to get even more out of the data.\n",
    " \n",
    "* **bucketizing** turns what would have otherwise been a continuous feature into a categorical one. \n",
    "* **feature crossing** allows us to compute a model weight for specific pairings across columns, rather than learning them as independently. This essentially encodes related columns together, for situations where having 2 (or more) columns being certain values is meaningful. \n",
    "\n",
    "Only categorical features can be crossed. This is one reason why age has been bucketized.\n",
    "\n",
    "For example, crossing education and occupation would enable the model to learn about: \n",
    "\n",
    "    education=\"Bachelors\" AND occupation=\"Exec-managerial\"\n",
    "\n",
    "or perhaps \n",
    "\n",
    "    education=\"Bachelors\" AND occupation=\"Craft-repair\"\n",
    "\n",
    "We do a few combined features (feature crosses) here. \n",
    "\n",
    "Add your own, based on your intuitions about the dataset, to try to improve on the model!"
   ]
  },
  {
   "cell_type": "code",
   "execution_count": null,
   "metadata": {},
   "outputs": [],
   "source": [
    "# Transformations.\n",
    "age_buckets = tf.feature_column.bucketized_column(\n",
    "    age, boundaries=[ 18, 25, 30, 35, 40, 45, 50, 55, 60, 65 ])\n",
    "\n",
    "education_occupation = tf.feature_column.crossed_column(\n",
    "    [\"education\", \"occupation\"], hash_bucket_size=int(1e4))\n",
    "\n",
    "age_race_occupation = tf.feature_column.crossed_column(\n",
    "    [age_buckets, \"race\", \"occupation\"], hash_bucket_size=int(1e6))\n",
    "\n",
    "country_occupation = tf.feature_column.crossed_column(\n",
    "    [\"native_country\", \"occupation\"], hash_bucket_size=int(1e4))\n",
    "\n",
    "print('Transformations complete')"
   ]
  },
  {
   "cell_type": "markdown",
   "metadata": {},
   "source": [
    "### Group feature columns into 2 objects\n",
    "\n",
    "The wide columns are the sparse, categorical columns that we specified, as well as our hashed, bucket, and feature crossed columns. \n",
    "\n",
    "The deep columns are composed of embedded categorical columns along with the continuous real-valued columns. **Column embeddings** transform a sparse, categorical tensor into a low-dimensional and dense real-valued vector. The embedding values are also trained along with the rest of the model. For more information about embeddings, see the TensorFlow tutorial on [Vector Representations Words](https://www.tensorflow.org/tutorials/word2vec/), or [Word Embedding](https://en.wikipedia.org/wiki/Word_embedding) on Wikipedia.\n",
    "\n",
    "The higher the dimension of the embedding is, the more degrees of freedom the model will have to learn the representations of the features. We are starting with an 8-dimension embedding for simplicity, but later you can come back and increase the dimensionality if you wish.\n",
    "\n"
   ]
  },
  {
   "cell_type": "code",
   "execution_count": null,
   "metadata": {},
   "outputs": [],
   "source": [
    "# Wide columns and deep columns.\n",
    "wide_columns = [gender, race, native_country,\n",
    "      education, occupation, workclass,\n",
    "      marital_status, relationship,\n",
    "      age_buckets, education_occupation,\n",
    "      age_race_occupation, country_occupation]\n",
    "\n",
    "deep_columns = [\n",
    "    # Multi-hot indicator columns for columns with fewer possibilities\n",
    "    tf.feature_column.indicator_column(workclass),\n",
    "    tf.feature_column.indicator_column(marital_status),\n",
    "    tf.feature_column.indicator_column(gender),\n",
    "    tf.feature_column.indicator_column(relationship),\n",
    "    tf.feature_column.indicator_column(race),\n",
    "    # Embeddings for categories with more possibilities\n",
    "    tf.feature_column.embedding_column(education, dimension=8),\n",
    "    tf.feature_column.embedding_column(native_country, dimension=8),\n",
    "    tf.feature_column.embedding_column(occupation, dimension=8),\n",
    "    # Numerical columns\n",
    "    age,\n",
    "    education_num,\n",
    "    capital_gain,\n",
    "    capital_loss,\n",
    "    hours_per_week,\n",
    "]\n",
    "\n",
    "print('wide and deep columns configured')"
   ]
  },
  {
   "cell_type": "markdown",
   "metadata": {},
   "source": [
    "# Create the model\n",
    "\n",
    "You can train either a \"wide\" model, a \"deep\" model, or a \"wide and deep\" model, using the classifiers below. Try each one and see what kind of results you get.\n",
    "\n",
    "* **Wide**: Linear Classifier\n",
    "* **Deep**: Deep Neural Net Classifier\n",
    "* **Wide & Deep**: Combined Linear and Deep Classifier\n",
    "\n",
    "The `hidden_units` or `dnn_hidden_units` argument is to specify the size of each layer of the deep portion of the network. For example, `[12, 20, 15]` would create a network with the first layer of size 12, the second layer of size 20, and a third layer of size 15."
   ]
  },
  {
   "cell_type": "code",
   "execution_count": null,
   "metadata": {},
   "outputs": [],
   "source": [
    "def create_model_dir(model_type):\n",
    "    return 'models/model_' + model_type + '_' + str(int(time.time()))\n",
    "\n",
    "# If new_model=False, pass in the desired model_dir \n",
    "def get_model(model_type, new_model=False, model_dir=None):\n",
    "    if new_model or model_dir is None:\n",
    "        model_dir = create_model_dir(model_type) # Comment out this line to continue training a existing model\n",
    "    print(\"Model directory = %s\" % model_dir)\n",
    "    \n",
    "    m = None\n",
    "    \n",
    "    # Linear Classifier\n",
    "    if model_type == 'WIDE':\n",
    "        m = tf.estimator.LinearClassifier(\n",
    "            model_dir=model_dir, \n",
    "            feature_columns=wide_columns)\n",
    "\n",
    "    # Deep Neural Net Classifier\n",
    "    if model_type == 'DEEP':\n",
    "        m = tf.estimator.DNNClassifier(\n",
    "            model_dir=model_dir,\n",
    "            feature_columns=deep_columns,\n",
    "            hidden_units=[100, 50])\n",
    "\n",
    "    # Combined Linear and Deep Classifier\n",
    "    if model_type == 'WIDE_AND_DEEP':\n",
    "        m = tf.estimator.DNNLinearCombinedClassifier(\n",
    "                model_dir=model_dir,\n",
    "                linear_feature_columns=wide_columns,\n",
    "                dnn_feature_columns=deep_columns,\n",
    "                dnn_hidden_units=[100, 70, 50, 25])\n",
    "        \n",
    "    print('estimator built')\n",
    "    \n",
    "    return m, model_dir\n",
    "    \n",
    "MODEL_TYPE = 'WIDE_AND_DEEP'\n",
    "model_dir = create_model_dir(model_type=MODEL_TYPE)\n",
    "m, model_dir = get_model(model_type = MODEL_TYPE, model_dir=model_dir)"
   ]
  },
  {
   "cell_type": "markdown",
   "metadata": {},
   "source": [
    "# Fit the model (train it)\n",
    "\n",
    "Run `train()` to train the model. You can experiment with the `train_steps` and `BATCH_SIZE` parameters.\n",
    "\n",
    "This can take some time, depending on the values chosen for `train_steps` and `BATCH_SIZE`.\n"
   ]
  },
  {
   "cell_type": "code",
   "execution_count": null,
   "metadata": {
    "scrolled": true
   },
   "outputs": [],
   "source": [
    "%%time \n",
    "\n",
    "train_file = str(\"adult.data.csv\") \n",
    "# \"gs://cloudml-public/census/data/adult.data.csv\"\n",
    "# storage.googleapis.com/cloudml-public/census/data/adult.data.csv\n",
    "\n",
    "m.train(input_fn=generate_input_fn(train_file), \n",
    "      steps=1000)\n",
    "\n",
    "print('training done')"
   ]
  },
  {
   "cell_type": "markdown",
   "metadata": {},
   "source": [
    "# Evaluate the accuracy of the model\n",
    "Let's see how the model did. We will evaluate all the test data."
   ]
  },
  {
   "cell_type": "code",
   "execution_count": null,
   "metadata": {
    "scrolled": true
   },
   "outputs": [],
   "source": [
    "test_file  = str(\"adult.test.csv\") \n",
    "# \"gs://cloudml-public/census/data/adult.test.csv\"\n",
    "# storage.googleapis.com/cloudml-public/census/data/adult.test.csv\n",
    "\n",
    "results = m.evaluate(input_fn=generate_input_fn(test_file, num_epochs=1, shuffle=False), \n",
    "                     steps=None)\n",
    "print('evaluate done')\n",
    "print('\\nAccuracy: %s' % results['accuracy'])"
   ]
  },
  {
   "cell_type": "markdown",
   "metadata": {},
   "source": [
    "# Make a prediction"
   ]
  },
  {
   "cell_type": "code",
   "execution_count": null,
   "metadata": {},
   "outputs": [],
   "source": [
    "# Create a dataframe to wrap in an input function\n",
    "df = pd.read_csv(\"adult.test.csv\", header=None, names=COLUMNS)\n",
    "data_predict = df.iloc[8000:8005]\n",
    "data_predict.head() # show this before deleting, so we know what the labels are"
   ]
  },
  {
   "cell_type": "code",
   "execution_count": null,
   "metadata": {
    "collapsed": true
   },
   "outputs": [],
   "source": [
    "# If you run this cell twice, it will give an error since you'd be deleting something that was already gone\n",
    "del data_predict[\"fnlwgt\"] # Unused column\n",
    "del data_predict[\"income_bracket\"] # remove the label column"
   ]
  },
  {
   "cell_type": "code",
   "execution_count": null,
   "metadata": {},
   "outputs": [],
   "source": [
    "predict_input_fn = tf.estimator.inputs.pandas_input_fn(\n",
    "        x=data_predict,\n",
    "        batch_size=1,\n",
    "        num_epochs=1,\n",
    "        shuffle=False)\n",
    "\n",
    "predictions = m.predict(input_fn=predict_input_fn)\n",
    "\n",
    "for prediction in predictions:\n",
    "    print(\"Predictions:    {} with probabilities {}\\n\".format(prediction[\"classes\"], prediction[\"probabilities\"]))"
   ]
  },
  {
   "cell_type": "markdown",
   "metadata": {},
   "source": [
    "# Export a model optimized for inference\n",
    "We can upload our trained model to the Cloud Machine Learning Engine's Prediction Service, which will take care of serving our model and scaling it. The code below exports our trained model to a `saved_model.pb` file and a `variables` folder where the trained weights are stored. This format is also compatible with TensorFlow Serving.\n",
    "\n",
    "The `export_savedmodel()` function expects a `serving_input_receiver_fn()`, which returns the mapping from the data that the Prediction Service passes in to the data that should be fed into the trained TensorFlow prediction graph."
   ]
  },
  {
   "cell_type": "code",
   "execution_count": null,
   "metadata": {},
   "outputs": [],
   "source": [
    "def column_to_dtype(column):\n",
    "    if column in CATEGORICAL_COLUMNS:\n",
    "        return tf.string\n",
    "    else:\n",
    "        return tf.float32\n",
    "    \n",
    "feature_spec = {\n",
    "    column: tf.FixedLenFeature(shape=[1], dtype=column_to_dtype(column))\n",
    "        for column in FEATURE_COLUMNS\n",
    "}\n",
    "serving_fn = tf.estimator.export.build_parsing_serving_input_receiver_fn(feature_spec)\n",
    "m.export_savedmodel(export_dir_base=model_dir + '/export', \n",
    "                            serving_input_receiver_fn=serving_fn)"
   ]
  },
  {
   "cell_type": "markdown",
   "metadata": {},
   "source": [
    "# Conclusions\n",
    "\n",
    "In this Juypter notebook, we have configured, created, and evaluated a Wide & Deep machine learning model, that combines the powers of a Linear Classifier with a Deep Neural Network, using TensorFlow's tf.Estimator module.\n",
    "\n",
    "With this working example in your toolbelt, you are ready to explore the wide (and deep) world of machine learning with TensorFlow! Some ideas to help you get going:\n",
    "* Change the features we used today. Which columns do you think are correlated and should be crossed? Which ones do you think are just adding noise and could be removed to clean up the model?\n",
    "* Swap in an entirely new dataset! There are many dataset available on the web, or use a dataset you possess! Check out https://archive.ics.uci.edu/ml to find your own dataset. "
   ]
  }
 ],
 "metadata": {
 },
 "nbformat": 4,
 "nbformat_minor": 2
}
